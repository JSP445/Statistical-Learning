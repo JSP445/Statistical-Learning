{
 "cells": [
  {
   "cell_type": "markdown",
   "metadata": {},
   "source": [
    "# Definitions #"
   ]
  },
  {
   "cell_type": "markdown",
   "metadata": {},
   "source": [
    "### Continuous or quantitative values ###\n",
    "Predicting a numerical value, often referred to as a regression problem."
   ]
  },
  {
   "cell_type": "markdown",
   "metadata": {},
   "source": [
    "### Categorical or qualitative values ###\n",
    "Predicting a non-numerical value, often referred to as a classification problem."
   ]
  },
  {
   "cell_type": "markdown",
   "metadata": {},
   "source": [
    "### Ablation ###\n",
    "Ablation is used to signify the importance of a feature or component by temporarily removing it from a model. Then, retrain the model and if the retrained model performs significantly worse, the removed feature or component was likely important.\n"
   ]
  },
  {
   "cell_type": "markdown",
   "metadata": {},
   "source": [
    "### A/B Testing ###\n",
    "\n",
    "A statistical way of comparing techniques. A represents the existing technique and B is the new technique. A/B testing determines which technique performs better and whether there is a statistical significance."
   ]
  },
  {
   "cell_type": "markdown",
   "metadata": {},
   "source": [
    "### Accelerator chip ###\n",
    "Specialised hardware components designed to perform key computations needed for deep learning algorithms\n",
    "\n",
    "Accelerator chips can signficantly increase the speed and efficiency of training and inference tasks compared to CPUs which are ideal for training neural networks or similar intensive tasks.\n",
    "\n",
    "Examples include Tensor Processing Units (TPUs) with dedicated hardware for deep learning or NVIDIA GPUs."
   ]
  },
  {
   "cell_type": "markdown",
   "metadata": {},
   "source": [
    "### Accuracy ###\n",
    "Accuracy =  number of correct predictions / correct predictions + incorrect predictions\n",
    "\n",
    "i.e 40 correct predictions and 10 incorrect predictions is 40 / (40 + 10) = 80%\n",
    "\n",
    "Binary classification works as: \n",
    "\n",
    "Accuracy = True Positives + True Negatives / True Positives + True Negatives + False Positives + False Negatives."
   ]
  },
  {
   "cell_type": "markdown",
   "metadata": {},
   "source": [
    "### Action ###\n",
    "The mechanism by which the agent transitions between states of the environment by using a policy."
   ]
  },
  {
   "cell_type": "markdown",
   "metadata": {},
   "source": [
    "### Activation function ###\n",
    "A function that enables neural networks to learn nonlinear (complex) relationships between features and the label."
   ]
  },
  {
   "cell_type": "markdown",
   "metadata": {},
   "source": [
    "### Active learning ###\n",
    "A training approach in which the algorithm chooses some of the data it learns from. The active learning algorithm selectively seeks the particular range of examples it needs for learning. "
   ]
  },
  {
   "cell_type": "markdown",
   "metadata": {},
   "source": [
    "### Agent ###\n",
    "\n",
    "The entity that uses a policy to maximise the expected return gained from transitioning between states of the environment. An agent is software that autonomously plans and executes a series of actions in pursuit of a goal, with the ability to adapt to changes in its environment. \n",
    "\n",
    "An LLM-based agent might use the LLM to generate a plan, rather than applying a reinforcement learning policy."
   ]
  }
 ],
 "metadata": {
  "language_info": {
   "name": "python"
  }
 },
 "nbformat": 4,
 "nbformat_minor": 2
}
